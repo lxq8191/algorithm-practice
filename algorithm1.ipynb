{
 "cells": [
  {
   "cell_type": "code",
   "execution_count": 7,
   "metadata": {
    "collapsed": false
   },
   "outputs": [
    {
     "data": {
      "text/plain": [
       "6"
      ]
     },
     "execution_count": 7,
     "metadata": {},
     "output_type": "execute_result"
    }
   ],
   "source": [
    "# 求解最大连续子序列和\n",
    "def maxsequence(nums):\n",
    "    maxhere = nums[0]\n",
    "    maxsum = nums[0]\n",
    "    for i in range(1,len(nums)):\n",
    "        if maxhere <= 0: \n",
    "            maxhere = nums[i]\n",
    "        else:\n",
    "            maxhere += nums[i]\n",
    "        if maxhere > maxsum:\n",
    "            maxsum = maxhere \n",
    "    return maxsum\n",
    "numbers = [1, 3, -2, 4, -5]\n",
    "maxsequence(numbers)"
   ]
  },
  {
   "cell_type": "code",
   "execution_count": null,
   "metadata": {
    "collapsed": true
   },
   "outputs": [],
   "source": []
  }
 ],
 "metadata": {
  "kernelspec": {
   "display_name": "Python 3",
   "language": "python",
   "name": "python3"
  },
  "language_info": {
   "codemirror_mode": {
    "name": "ipython",
    "version": 3
   },
   "file_extension": ".py",
   "mimetype": "text/x-python",
   "name": "python",
   "nbconvert_exporter": "python",
   "pygments_lexer": "ipython3",
   "version": "3.5.4"
  }
 },
 "nbformat": 4,
 "nbformat_minor": 2
}
